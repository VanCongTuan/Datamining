{
 "cells": [
  {
   "cell_type": "code",
   "execution_count": null,
   "metadata": {},
   "outputs": [],
   "source": [
    "# Flie ASIAN\n",
    "import pandas as pd\n",
    "\n",
    "df=pd.read_csv(\"D:\\KPDL Python\\BaiTapLon\\Thư Mục Gốc\\Asia top 100 Universities.csv\")\n",
    "df.describe()\n",
    "df.info()"
   ]
  },
  {
   "cell_type": "code",
   "execution_count": null,
   "metadata": {},
   "outputs": [],
   "source": [
    "#File Europ\n",
    "import pandas as pd\n",
    "\n",
    "df=pd.read_csv(\"D:\\KPDL Python\\BaiTapLon\\Thư Mục Gốc\\europ top 100 Universities.csv\")\n",
    "df.describe()\n",
    "df.info()"
   ]
  },
  {
   "cell_type": "code",
   "execution_count": null,
   "metadata": {},
   "outputs": [],
   "source": [
    "#File Pakistank\n",
    "import pandas as pd\n",
    "\n",
    "df=pd.read_csv(\"D:\\KPDL Python\\BaiTapLon\\Thư Mục Gốc\\Pak top 100 universities.csv\")\n",
    "df.describe()\n",
    "df.info()"
   ]
  },
  {
   "cell_type": "code",
   "execution_count": null,
   "metadata": {},
   "outputs": [],
   "source": [
    "#Top 300 university\n",
    "import pandas as pd\n",
    "\n",
    "df=pd.read_csv(\"D:\\KPDL Python\\BaiTapLon\\Thư Mục Gốc\\Top 300 universities of World.csv\")\n",
    "df.describe()\n",
    "df.info()"
   ]
  },
  {
   "cell_type": "code",
   "execution_count": null,
   "metadata": {},
   "outputs": [],
   "source": []
  }
 ],
 "metadata": {
  "kernelspec": {
   "display_name": "Python 3",
   "language": "python",
   "name": "python3"
  },
  "language_info": {
   "codemirror_mode": {
    "name": "ipython",
    "version": 3
   },
   "file_extension": ".py",
   "mimetype": "text/x-python",
   "name": "python",
   "nbconvert_exporter": "python",
   "pygments_lexer": "ipython3",
   "version": "3.11.4"
  },
  "orig_nbformat": 4
 },
 "nbformat": 4,
 "nbformat_minor": 2
}
